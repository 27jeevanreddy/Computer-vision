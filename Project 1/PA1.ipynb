{
 "cells": [
  {
   "cell_type": "markdown",
   "id": "921c037f",
   "metadata": {},
   "source": [
    "# CSE 6367 Programming Assignment 1 (P1)"
   ]
  },
  {
   "cell_type": "markdown",
   "id": "7c013586",
   "metadata": {},
   "source": [
    "## Spring 2023"
   ]
  },
  {
   "cell_type": "markdown",
   "id": "30fd4a17",
   "metadata": {},
   "source": [
    "## Due: 11:59pm Central Time, Friday, March 17, 2023"
   ]
  },
  {
   "cell_type": "markdown",
   "id": "ba12a848",
   "metadata": {},
   "source": [
    "### Task 1 (10 points) \n",
    "\n",
    "Import the \"colors.png\" image and convert the image to HSV\n",
    "\n",
    "change the value/brightness value in the HSV image to 50%, convert the HSV back to RGB, and display the result."
   ]
  },
  {
   "cell_type": "markdown",
   "id": "a134d953",
   "metadata": {},
   "source": [
    "### Task 2 (20 points)\n",
    "\n",
    "Import the \"cameraman.jpeg\" image and apply different geometric transformations to it.\n",
    "\n",
    "    a) Flip the image left-right\n",
    "    b) Rotate the image by 45 degree\n",
    "    c) Resize the image as 200 X 200 image\n",
    "\n",
    "Display the original image with a, b, c images in a 2X2 grid"
   ]
  },
  {
   "cell_type": "markdown",
   "id": "d8ca59bd",
   "metadata": {},
   "source": [
    "### Task3 (10 points)\n",
    "\n",
    "Binarization : Image binarization converts an image to an image with only two levels (usually 0 and 1 or black and white).\n",
    "\n",
    "Import the \"zebra.jpeg\" image, convert to grayscale and apply binarization on the image with threshold = 127 or 0.5 \n",
    "\n"
   ]
  },
  {
   "cell_type": "markdown",
   "id": "950b929c",
   "metadata": {},
   "source": [
    "### Task 4 (20 points) \n",
    "Average Filtering\n",
    "\n",
    "    a) Import the \"cameraman.jpeg\"\n",
    "    b) perform average filtering with kernel size 3X3, 5X5 and 9X9. \n",
    "\n",
    "Note: Apply zero-padding to make the filtered image size same as original image. Display the original image with the filtered images in a 2X2 grid. "
   ]
  },
  {
   "cell_type": "markdown",
   "id": "db65d991",
   "metadata": {},
   "source": [
    "### Task 5 (20 points)\n",
    "\n",
    "Median Filtering\n",
    "\n",
    "    a) Add salt and pepper noise as 30% of all pixels in \"cameraman.jpeg\" image\n",
    "    b) Perform median filtering with kernel size 3X3, 5X5 and 9X9. \n",
    "    \n",
    "Note: Apply zero-padding to make the filtered image size same as original image. Display the original image with the filtered images in a 2X2 grid. "
   ]
  },
  {
   "cell_type": "markdown",
   "id": "47983adc",
   "metadata": {},
   "source": [
    "### Task 6 (20 points)\n",
    "Sobel Edge Detection\n",
    "\n",
    "    a) Apply horizontal and vertical sobel filters on the \"cameraman.jpeg\" image.\n",
    "    b) Display the Sobel magnitude image"
   ]
  },
  {
   "cell_type": "markdown",
   "id": "fb593acf",
   "metadata": {},
   "source": [
    "## Submission Guidelines:\n",
    "\n",
    "    Submit through Canvas your source code in a single .ipynb file. The name of the .ipynb file should be YourStudentID.ipynb. (For example: 1001234567.ipynb)\n",
    "    Import all the images from the ./Images directory. Your TA will use the same directory name to grade your submission.\n",
    "    You don't need to attach the image file with your submission.\n"
   ]
  }
 ],
 "metadata": {
  "kernelspec": {
   "display_name": "Python 3 (ipykernel)",
   "language": "python",
   "name": "python3"
  },
  "language_info": {
   "codemirror_mode": {
    "name": "ipython",
    "version": 3
   },
   "file_extension": ".py",
   "mimetype": "text/x-python",
   "name": "python",
   "nbconvert_exporter": "python",
   "pygments_lexer": "ipython3",
   "version": "3.10.4"
  }
 },
 "nbformat": 4,
 "nbformat_minor": 5
}
